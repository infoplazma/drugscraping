{
 "cells": [
  {
   "cell_type": "markdown",
   "id": "0a23d1a5-4d9a-4764-aa26-94949c592e65",
   "metadata": {},
   "source": [
    "# Manage API Drugs"
   ]
  },
  {
   "cell_type": "markdown",
   "id": "f5167f56-ab33-4317-914d-dc1eb843a786",
   "metadata": {},
   "source": [
    "### Назначение: Обновление симптома в записях диагноза по ID преарата и по желанию order - порядкового номера (если order=None обновление для всех order в диагнозе)."
   ]
  },
  {
   "cell_type": "markdown",
   "id": "22b12379-f2b5-46ad-9cb8-daa003aced66",
   "metadata": {},
   "source": [
    "[API Редактор інструкцій - ссылка на сайт](http://185.174.220.122)\n",
    "* [Базовый синтаксис записи и форматирования md](https://docs.github.com/ru/get-started/writing-on-github/getting-started-with-writing-and-formatting-on-github/basic-writing-and-formatting-syntax)\n",
    "* [Syntax guidance for basic Markdown usage](https://learn.microsoft.com/en-us/azure/devops/project/wiki/markdown-guidance?view=azure-devops)\n",
    "* [Viewsets и ModelViewSet | Уроки по Django REST Framework](https://www.youtube.com/watch?v=FiRmAMroTh0&list=PLA0M1Bcd0w8xZA3Kl1fYmOH_MfLpiYMRs&index=8)\n",
    "* [REST API Routers](https://www.django-rest-framework.org/api-guide/routers/)"
   ]
  },
  {
   "cell_type": "code",
   "execution_count": 2,
   "id": "270073e9-8918-4bad-9592-8f2090e42f5d",
   "metadata": {},
   "outputs": [],
   "source": [
    "import sys\n",
    "import os\n",
    "import requests\n",
    "from pprint import pprint\n",
    "from icecream import ic\n",
    "\n",
    "# подгрузка root\n",
    "sys.path.append('..')\n",
    "from api_drugs.api_utilities import get_diagnoses, update_symptom, get_diagnosis_id\n",
    "from apteka911.task_creator import TASK_DFS_PATH\n",
    "\n",
    "%load_ext dotenv\n",
    "%dotenv"
   ]
  },
  {
   "cell_type": "markdown",
   "id": "027abbbc-81b1-4bc3-810e-c5ded0a585db",
   "metadata": {},
   "source": [
    "#### Проверить значения IP из .env\n",
    "[python-dotenv - описание](https://pypi.org/project/python-dotenv/)"
   ]
  },
  {
   "cell_type": "code",
   "execution_count": 3,
   "id": "cae686d3-a357-4073-9e34-9326181e0d01",
   "metadata": {},
   "outputs": [
    {
     "name": "stdout",
     "output_type": "stream",
     "text": [
      "IP_LOCAL='127.0.0.1:8000'\n",
      "IP_SERVER='185.174.220.122'\n"
     ]
    }
   ],
   "source": [
    "IP_LOCAL = os.getenv(\"IP_LOCAL\")\n",
    "IP_SERVER = os.getenv(\"IP_SERVER\")\n",
    "print(f\"{IP_LOCAL=}\")\n",
    "print(f\"{IP_SERVER=}\")"
   ]
  },
  {
   "cell_type": "markdown",
   "id": "d7b957f1-8e8a-45bd-bdf1-a27cb5789f39",
   "metadata": {},
   "source": [
    "#### Выбрать IP:"
   ]
  },
  {
   "cell_type": "code",
   "execution_count": 4,
   "id": "f1b6673d-56e9-4314-855d-37c2d4c70d6d",
   "metadata": {},
   "outputs": [
    {
     "name": "stdout",
     "output_type": "stream",
     "text": [
      "IP='127.0.0.1:8000'\n"
     ]
    }
   ],
   "source": [
    "IP = IP_LOCAL\n",
    "print(f\"{IP=}\")"
   ]
  },
  {
   "cell_type": "markdown",
   "id": "5108b7a1-2739-4b78-878b-4c75e9bf163e",
   "metadata": {},
   "source": [
    "#### Просмотреть диагнозы:"
   ]
  },
  {
   "cell_type": "code",
   "execution_count": 9,
   "id": "8ea7629b-f888-49e7-a425-521efc698338",
   "metadata": {
    "scrolled": true
   },
   "outputs": [
    {
     "name": "stdout",
     "output_type": "stream",
     "text": [
      "[{'description': '',\n",
      "  'excel_file': 1,\n",
      "  'id': 171,\n",
      "  'name': 'Аденовирусная инфекция'},\n",
      " {'description': '',\n",
      "  'excel_file': 1,\n",
      "  'id': 165,\n",
      "  'name': 'Бактериальный риносинусит'},\n",
      " {'description': '', 'excel_file': 1, 'id': 167, 'name': 'Ветряная оспа'},\n",
      " {'description': '', 'excel_file': 1, 'id': 176, 'name': 'Грипп'},\n",
      " {'description': '', 'excel_file': 1, 'id': 179, 'name': 'Дизентерия'},\n",
      " {'description': '', 'excel_file': 1, 'id': 169, 'name': 'Коклюш'},\n",
      " {'description': '', 'excel_file': 1, 'id': 172, 'name': 'Коксаки.ECHO'},\n",
      " {'description': '', 'excel_file': 1, 'id': 168, 'name': 'Корь'},\n",
      " {'description': '', 'excel_file': 1, 'id': 187, 'name': 'Краснуха'},\n",
      " {'description': '',\n",
      "  'excel_file': 1,\n",
      "  'id': 173,\n",
      "  'name': 'Менингококковая инфекция'},\n",
      " {'description': '', 'excel_file': 1, 'id': 182, 'name': 'О. аденоидит'},\n",
      " {'description': '',\n",
      "  'excel_file': 1,\n",
      "  'id': 175,\n",
      "  'name': 'О. вирусные кишечные инфекции'},\n",
      " {'description': '',\n",
      "  'excel_file': 1,\n",
      "  'id': 180,\n",
      "  'name': 'О. вирусный риносинусит'},\n",
      " {'description': '',\n",
      "  'excel_file': 1,\n",
      "  'id': 181,\n",
      "  'name': 'О. поствирусный риносинусит'},\n",
      " {'description': '',\n",
      "  'excel_file': 1,\n",
      "  'id': 174,\n",
      "  'name': 'О.инфекционный мононуклеоз'},\n",
      " {'description': '',\n",
      "  'excel_file': 1,\n",
      "  'id': 178,\n",
      "  'name': 'О.обструктивный бронхит'},\n",
      " {'description': '', 'excel_file': 1, 'id': 177, 'name': 'Парагрипп'},\n",
      " {'description': '',\n",
      "  'excel_file': 1,\n",
      "  'id': 170,\n",
      "  'name': 'Ротавирусная инфекция'},\n",
      " {'description': '', 'excel_file': 1, 'id': 166, 'name': 'Скарлатина'}]\n",
      "========================================================================================================================\n",
      "Completed\n"
     ]
    }
   ],
   "source": [
    "pprint(get_diagnoses(IP))\n",
    "print(\"=\"*120)\n",
    "print(\"Completed\")"
   ]
  },
  {
   "cell_type": "markdown",
   "id": "9cad3a68-6241-48d0-81f5-4de64fa742df",
   "metadata": {},
   "source": [
    "-------------"
   ]
  },
  {
   "cell_type": "markdown",
   "id": "2d033460-e181-4735-9208-0cd2a703bf22",
   "metadata": {},
   "source": [
    "<h2 style=\"color:blue\">Обновление значений симптома:</h2>"
   ]
  },
  {
   "cell_type": "markdown",
   "id": "2fe537cf-d00b-4761-b02c-548520ef8dfd",
   "metadata": {},
   "source": [
    "#### Задать значения:\n",
    "[API Редактор інструкцій - ссылка на сайт](http://185.174.220.122)"
   ]
  },
  {
   "cell_type": "code",
   "execution_count": 7,
   "id": "1c0916a0-10ed-4897-851d-fc97a08fb281",
   "metadata": {},
   "outputs": [
    {
     "name": "stdout",
     "output_type": "stream",
     "text": [
      "DIAGNOSIS_ID=173\n",
      "DRUG_ID=1\n",
      "ORDER=1\n",
      "NEW_SYMPTOM='Температура тела от 38,5 и выше. У ребенка кожа розовая, горячая на ощупь, влажная . Конечности теплые.'\n"
     ]
    }
   ],
   "source": [
    "DIAGNOSIS_ID = get_diagnosis_id(IP, 'Менингококковая инфекция')\n",
    "DRUG_ID = 1\n",
    "ORDER = 1 # None - Для всех порядковых номеров в диагнозе\n",
    "NEW_SYMPTOM = \"\"\"Температура тела от 38,5 и выше. У ребенка кожа розовая, горячая на ощупь, влажная . Конечности теплые.\"\"\"\n",
    "print(f\"{DIAGNOSIS_ID=}\")\n",
    "print(f\"{DRUG_ID=}\")\n",
    "print(f\"{ORDER=}\")\n",
    "print(f\"{NEW_SYMPTOM=}\")"
   ]
  },
  {
   "cell_type": "markdown",
   "id": "e150dee5-3db2-4d7d-9075-91cb153d09a0",
   "metadata": {},
   "source": [
    "#### **Обновление симптома:**"
   ]
  },
  {
   "cell_type": "code",
   "execution_count": 8,
   "id": "5dd69a23-5de4-4f34-a2cc-e7317f31ee9f",
   "metadata": {},
   "outputs": [
    {
     "name": "stdout",
     "output_type": "stream",
     "text": [
      "[{'old_symptom': 'Температура тела от 38 и выше. У ребенка кожа бледная, '\n",
      "                 'мраморная, сухая, конечности холодные. \\n'\n",
      "                 'Состояние ребенка нарушено-вялый, хочет спать, накрывается '\n",
      "                 'одеялом, ощущает озноб.',\n",
      "  'reg': {'diagnosis': 173,\n",
      "          'drug': 1,\n",
      "          'id': 21244,\n",
      "          'is_disabled': False,\n",
      "          'order': 1,\n",
      "          'symptom': 'Температура тела от 38,5 и выше. У ребенка кожа розовая, '\n",
      "                     'горячая на ощупь, влажная . Конечности теплые.'}}]\n",
      "========================================================================================================================\n",
      "Completed\n"
     ]
    }
   ],
   "source": [
    "try:\n",
    "    pprint(update_symptom(IP, DIAGNOSIS_ID, new_symptom=NEW_SYMPTOM, drug_id=DRUG_ID, order=ORDER))\n",
    "    print(\"=\"*120)\n",
    "    print(\"Completed\")\n",
    "except Exception as e:\n",
    "    print(e)"
   ]
  },
  {
   "cell_type": "code",
   "execution_count": null,
   "id": "8e07b5c8-097d-4dc3-8182-5731eb7be489",
   "metadata": {},
   "outputs": [],
   "source": []
  }
 ],
 "metadata": {
  "kernelspec": {
   "display_name": "Python 3 (ipykernel)",
   "language": "python",
   "name": "python3"
  },
  "language_info": {
   "codemirror_mode": {
    "name": "ipython",
    "version": 3
   },
   "file_extension": ".py",
   "mimetype": "text/x-python",
   "name": "python",
   "nbconvert_exporter": "python",
   "pygments_lexer": "ipython3",
   "version": "3.10.13"
  }
 },
 "nbformat": 4,
 "nbformat_minor": 5
}
