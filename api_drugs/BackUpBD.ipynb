{
 "cells": [
  {
   "cell_type": "markdown",
   "id": "8e783fb6-425a-4d80-9c56-4677cea1385f",
   "metadata": {},
   "source": [
    "# Manage API Drugs"
   ]
  },
  {
   "cell_type": "markdown",
   "id": "be29e1d2-60e5-4686-9ec0-fb177095d3c1",
   "metadata": {},
   "source": [
    "## Назначение: **BackUp BD** Сохранение базы в json формате на диск."
   ]
  },
  {
   "cell_type": "markdown",
   "id": "5aec657a-0772-45dd-a2fb-1e69f41eac41",
   "metadata": {},
   "source": [
    "[API Редактор інструкцій - ссылка на сайт](http://185.174.220.122)\n",
    "* [Базовый синтаксис записи и форматирования md](https://docs.github.com/ru/get-started/writing-on-github/getting-started-with-writing-and-formatting-on-github/basic-writing-and-formatting-syntax)\n",
    "* [Syntax guidance for basic Markdown usage](https://learn.microsoft.com/en-us/azure/devops/project/wiki/markdown-guidance?view=azure-devops)\n",
    "* [Viewsets и ModelViewSet | Уроки по Django REST Framework](https://www.youtube.com/watch?v=FiRmAMroTh0&list=PLA0M1Bcd0w8xZA3Kl1fYmOH_MfLpiYMRs&index=8)\n",
    "* [REST API Routers](https://www.django-rest-framework.org/api-guide/routers/)"
   ]
  },
  {
   "cell_type": "code",
   "execution_count": 1,
   "id": "ff3cca3e-0bce-43fe-aa9c-a6137d9bbc73",
   "metadata": {},
   "outputs": [],
   "source": [
    "import os\n",
    "import sys\n",
    "from pprint import pprint\n",
    "\n",
    "# подгрузка root\n",
    "sys.path.append('..')\n",
    "import settings\n",
    "from api_drugs.api_utilities import backup\n",
    "\n",
    "%load_ext dotenv\n",
    "%dotenv"
   ]
  },
  {
   "cell_type": "markdown",
   "id": "d2438cd8-6e3c-455a-81a8-438fa2ecabeb",
   "metadata": {},
   "source": [
    "#### Проверить значения IP из .env\n",
    "[python-dotenv - описание](https://pypi.org/project/python-dotenv/)"
   ]
  },
  {
   "cell_type": "markdown",
   "id": "3e92fa69-3e19-44bf-8138-4410eb141371",
   "metadata": {},
   "source": [
    "#### Просмотреть где будут сохранены данные:"
   ]
  },
  {
   "cell_type": "code",
   "execution_count": 2,
   "id": "c98558e2-3dd4-488d-962c-547dd6152e4b",
   "metadata": {},
   "outputs": [
    {
     "name": "stdout",
     "output_type": "stream",
     "text": [
      "IP_LOCAL='127.0.0.1:8000'\n",
      "IP_SERVER='185.174.220.122'\n"
     ]
    }
   ],
   "source": [
    "IP_LOCAL = os.getenv(\"IP_LOCAL\")\n",
    "IP_SERVER = os.getenv(\"IP_SERVER\")\n",
    "print(f\"{IP_LOCAL=}\")\n",
    "print(f\"{IP_SERVER=}\")"
   ]
  },
  {
   "cell_type": "markdown",
   "id": "54a7c0a7-b053-405b-ba25-5665a2f7b7ed",
   "metadata": {},
   "source": [
    "#### Выбрать IP:"
   ]
  },
  {
   "cell_type": "code",
   "execution_count": 3,
   "id": "9cfcf29e-bc33-4e74-a6e5-9209fb1c00fa",
   "metadata": {},
   "outputs": [
    {
     "name": "stdout",
     "output_type": "stream",
     "text": [
      "IP='185.174.220.122'\n"
     ]
    }
   ],
   "source": [
    "IP = IP_SERVER\n",
    "print(f\"{IP=}\")"
   ]
  },
  {
   "cell_type": "code",
   "execution_count": 4,
   "id": "88deab68-cb04-42c1-b4e4-ebe785d215a7",
   "metadata": {},
   "outputs": [
    {
     "name": "stdout",
     "output_type": "stream",
     "text": [
      "BACKUP_DIR='D:\\\\PycharmProjects\\\\drugscraping\\\\backup'\n"
     ]
    }
   ],
   "source": [
    "BACKUP_DIR = settings.BACKUP_DIR\n",
    "print(f'{BACKUP_DIR=}')"
   ]
  },
  {
   "cell_type": "markdown",
   "id": "3b5fafb8-fe06-489e-a34e-586ff497e0ca",
   "metadata": {},
   "source": [
    "--------"
   ]
  },
  {
   "cell_type": "markdown",
   "id": "7db4a049-c4e1-4684-8f90-942a27d8b158",
   "metadata": {},
   "source": [
    "<h2 style=\"color:blue\">Сохранение данных:</h2>"
   ]
  },
  {
   "cell_type": "code",
   "execution_count": 5,
   "id": "ce76cdb9-a31a-4d4a-8655-9122e163c11f",
   "metadata": {
    "scrolled": true
   },
   "outputs": [
    {
     "name": "stdout",
     "output_type": "stream",
     "text": [
      "Backup через api базы данных:\n",
      "Скачивание займет определенное время...\n",
      "\n",
      "loading diagnosis list...\n",
      "Все диагнозы из базы сохранены 'D:\\PycharmProjects\\drugscraping\\backup\\diagnosis_list.json'\n",
      "\n",
      "loading Аденовирусная инфекция...\n",
      "Структура и препараты диагноза \"Аденовирусная инфекция\" сохранены: 'D:\\PycharmProjects\\drugscraping\\backup\\Аденовирусная инфекция.json'\n",
      "\n",
      "loading Бактериальный риносинусит...\n",
      "Структура и препараты диагноза \"Бактериальный риносинусит\" сохранены: 'D:\\PycharmProjects\\drugscraping\\backup\\Бактериальный риносинусит.json'\n",
      "\n",
      "loading Ветряная оспа...\n",
      "Структура и препараты диагноза \"Ветряная оспа\" сохранены: 'D:\\PycharmProjects\\drugscraping\\backup\\Ветряная оспа.json'\n",
      "\n",
      "loading Грипп...\n",
      "Структура и препараты диагноза \"Грипп\" сохранены: 'D:\\PycharmProjects\\drugscraping\\backup\\Грипп.json'\n",
      "\n",
      "loading Дизентерия...\n",
      "Структура и препараты диагноза \"Дизентерия\" сохранены: 'D:\\PycharmProjects\\drugscraping\\backup\\Дизентерия.json'\n",
      "\n",
      "loading Коклюш...\n",
      "Структура и препараты диагноза \"Коклюш\" сохранены: 'D:\\PycharmProjects\\drugscraping\\backup\\Коклюш.json'\n",
      "\n",
      "loading Коксаки.ECHO...\n",
      "Структура и препараты диагноза \"Коксаки.ECHO\" сохранены: 'D:\\PycharmProjects\\drugscraping\\backup\\Коксаки.ECHO.json'\n",
      "\n",
      "loading Корь...\n",
      "Структура и препараты диагноза \"Корь\" сохранены: 'D:\\PycharmProjects\\drugscraping\\backup\\Корь.json'\n",
      "\n",
      "loading Краснуха...\n",
      "Структура и препараты диагноза \"Краснуха\" сохранены: 'D:\\PycharmProjects\\drugscraping\\backup\\Краснуха.json'\n",
      "\n",
      "loading Менингококковая инфекция...\n",
      "Структура и препараты диагноза \"Менингококковая инфекция\" сохранены: 'D:\\PycharmProjects\\drugscraping\\backup\\Менингококковая инфекция.json'\n",
      "\n",
      "loading О. аденоидит...\n",
      "Структура и препараты диагноза \"О. аденоидит\" сохранены: 'D:\\PycharmProjects\\drugscraping\\backup\\О. аденоидит.json'\n",
      "\n",
      "loading О. вирусные кишечные инфекции...\n",
      "Структура и препараты диагноза \"О. вирусные кишечные инфекции\" сохранены: 'D:\\PycharmProjects\\drugscraping\\backup\\О. вирусные кишечные инфекции.json'\n",
      "\n",
      "loading О. вирусный риносинусит...\n",
      "Структура и препараты диагноза \"О. вирусный риносинусит\" сохранены: 'D:\\PycharmProjects\\drugscraping\\backup\\О. вирусный риносинусит.json'\n",
      "\n",
      "loading О.инфекционный мононуклеоз...\n",
      "Структура и препараты диагноза \"О.инфекционный мононуклеоз\" сохранены: 'D:\\PycharmProjects\\drugscraping\\backup\\О.инфекционный мононуклеоз.json'\n",
      "\n",
      "loading О.обструктивный бронхит...\n",
      "Структура и препараты диагноза \"О.обструктивный бронхит\" сохранены: 'D:\\PycharmProjects\\drugscraping\\backup\\О.обструктивный бронхит.json'\n",
      "\n",
      "loading О. поствирусный риносинусит...\n",
      "Структура и препараты диагноза \"О. поствирусный риносинусит\" сохранены: 'D:\\PycharmProjects\\drugscraping\\backup\\О. поствирусный риносинусит.json'\n",
      "\n",
      "loading Парагрипп...\n",
      "Структура и препараты диагноза \"Парагрипп\" сохранены: 'D:\\PycharmProjects\\drugscraping\\backup\\Парагрипп.json'\n",
      "\n",
      "loading Ротавирусная инфекция...\n",
      "Структура и препараты диагноза \"Ротавирусная инфекция\" сохранены: 'D:\\PycharmProjects\\drugscraping\\backup\\Ротавирусная инфекция.json'\n",
      "\n",
      "loading Скарлатина...\n",
      "Структура и препараты диагноза \"Скарлатина\" сохранены: 'D:\\PycharmProjects\\drugscraping\\backup\\Скарлатина.json'\n",
      "\n",
      "Процесс загрузки всех препаратов займет достаточное время...\n",
      "Все препараты сохранены: 'D:\\PycharmProjects\\drugscraping\\backup\\all_drugs.json'\n",
      "Все usage column names сохранены: 'D:\\PycharmProjects\\drugscraping\\backup\\usage_column_names.json'\n",
      "========================================================================================================================\n",
      "Completed\n"
     ]
    }
   ],
   "source": [
    "backup(IP, BACKUP_DIR)\n",
    "print(\"=\"*120)\n",
    "print(\"Completed\")"
   ]
  },
  {
   "cell_type": "code",
   "execution_count": null,
   "id": "c49294d9-1285-4b5f-94a3-1aad1719eeef",
   "metadata": {},
   "outputs": [],
   "source": []
  }
 ],
 "metadata": {
  "kernelspec": {
   "display_name": "Python 3 (ipykernel)",
   "language": "python",
   "name": "python3"
  },
  "language_info": {
   "codemirror_mode": {
    "name": "ipython",
    "version": 3
   },
   "file_extension": ".py",
   "mimetype": "text/x-python",
   "name": "python",
   "nbconvert_exporter": "python",
   "pygments_lexer": "ipython3",
   "version": "3.10.13"
  }
 },
 "nbformat": 4,
 "nbformat_minor": 5
}
