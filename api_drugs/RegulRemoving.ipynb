{
 "cells": [
  {
   "cell_type": "markdown",
   "id": "df429b6e-9870-4c73-bab7-5192bc4d4907",
   "metadata": {},
   "source": [
    "# Manage API Drugs"
   ]
  },
  {
   "cell_type": "markdown",
   "id": "bec5cc0b-51de-4c43-a8aa-ede971b731fa",
   "metadata": {},
   "source": [
    "## Назначение: Удаление лишних записей из выбранных диагнозов."
   ]
  },
  {
   "cell_type": "markdown",
   "id": "597dfa65-4fed-4936-8898-b7a4f594cd89",
   "metadata": {},
   "source": [
    "[API Редактор інструкцій - ссылка на сайт](http://185.174.220.122)\n",
    "* [Базовый синтаксис записи и форматирования md](https://docs.github.com/ru/get-started/writing-on-github/getting-started-with-writing-and-formatting-on-github/basic-writing-and-formatting-syntax)\n",
    "* [Syntax guidance for basic Markdown usage](https://learn.microsoft.com/en-us/azure/devops/project/wiki/markdown-guidance?view=azure-devops)"
   ]
  },
  {
   "cell_type": "code",
   "execution_count": 1,
   "id": "9228054c-6408-4941-a22f-13b112033d5c",
   "metadata": {},
   "outputs": [],
   "source": [
    "import sys\n",
    "import os\n",
    "import requests\n",
    "from pprint import pprint\n",
    "from icecream import ic\n",
    "\n",
    "# подгрузка root\n",
    "sys.path.append('..')\n",
    "from api_drugs.api_utilities import get_diagnosis_id\n",
    "\n",
    "%load_ext dotenv\n",
    "%dotenv"
   ]
  },
  {
   "cell_type": "markdown",
   "id": "f04191b7-8ef4-43e8-98d7-34477505ef32",
   "metadata": {},
   "source": [
    "#### Проверить значения IP из .env\n",
    "[python-dotenv - описание](https://pypi.org/project/python-dotenv/)"
   ]
  },
  {
   "cell_type": "code",
   "execution_count": 2,
   "id": "bfdee57b-c7f5-40cd-a853-df28cf4d13aa",
   "metadata": {},
   "outputs": [
    {
     "name": "stdout",
     "output_type": "stream",
     "text": [
      "IP_LOCAL='127.0.0.1:8000'\n",
      "IP_SERVER='185.174.220.122'\n"
     ]
    }
   ],
   "source": [
    "IP_LOCAL = os.getenv(\"IP_LOCAL\")\n",
    "IP_SERVER = os.getenv(\"IP_SERVER\")\n",
    "print(f\"{IP_LOCAL=}\")\n",
    "print(f\"{IP_SERVER=}\")"
   ]
  },
  {
   "cell_type": "markdown",
   "id": "8235573d-ef95-4603-a5ce-67747b65f2fb",
   "metadata": {},
   "source": [
    "#### Константы:"
   ]
  },
  {
   "cell_type": "code",
   "execution_count": null,
   "id": "62027593-5ba2-401d-8825-169f38da45c2",
   "metadata": {},
   "outputs": [],
   "source": [
    "DELETE = False\n",
    "\n",
    "ID = 39 # Аденовирусная инфекция\n",
    "ID = 36 # Корь\n",
    "ID = 37 # 'Коклюш'\n",
    "ID = 35 # Ветряная оспа\n",
    "ID = 34 # Скарлатина\n",
    "ID = 38 # Ротавирусная инфекция\n",
    "ID = 40 # Коксаки.ECHO\n",
    "ID = 42 # О.инфекционный мононуклеоз\n",
    "ID = 41 # Менингококковая инфекция"
   ]
  },
  {
   "cell_type": "markdown",
   "id": "015853ea-caa9-44b7-9676-dae44421cd8f",
   "metadata": {},
   "source": [
    "#### Выбрать IP:"
   ]
  },
  {
   "cell_type": "code",
   "execution_count": 3,
   "id": "a52a2766-2928-4f6d-a2bd-b7cb6cecc57c",
   "metadata": {},
   "outputs": [
    {
     "name": "stdout",
     "output_type": "stream",
     "text": [
      "IP='185.174.220.122'\n"
     ]
    }
   ],
   "source": [
    "IP = IP_SERVER\n",
    "print(f\"{IP=}\")"
   ]
  },
  {
   "cell_type": "markdown",
   "id": "e82ac895-3218-40cc-9cde-150b77733b03",
   "metadata": {},
   "source": [
    "#### Просмотреть диагнозы:"
   ]
  },
  {
   "cell_type": "code",
   "execution_count": 4,
   "id": "32faa53f-607b-433b-b914-740ecab2095b",
   "metadata": {
    "scrolled": true
   },
   "outputs": [
    {
     "name": "stdout",
     "output_type": "stream",
     "text": [
      "[{'description': '',\n",
      "  'excel_file': 1,\n",
      "  'id': 39,\n",
      "  'name': 'Аденовирусная инфекция'},\n",
      " {'description': '',\n",
      "  'excel_file': 1,\n",
      "  'id': 33,\n",
      "  'name': 'Бактериальный риносинусит'},\n",
      " {'description': '', 'excel_file': 1, 'id': 35, 'name': 'Ветряная оспа'},\n",
      " {'description': '', 'excel_file': 1, 'id': 44, 'name': 'Грипп'},\n",
      " {'description': '', 'excel_file': 1, 'id': 47, 'name': 'Дизентерия'},\n",
      " {'description': '', 'excel_file': 1, 'id': 37, 'name': 'Коклюш'},\n",
      " {'description': '', 'excel_file': 1, 'id': 40, 'name': 'Коксаки.ECHO'},\n",
      " {'description': '', 'excel_file': 1, 'id': 36, 'name': 'Корь'},\n",
      " {'description': '', 'excel_file': 1, 'id': 55, 'name': 'Краснуха'},\n",
      " {'description': '',\n",
      "  'excel_file': 1,\n",
      "  'id': 41,\n",
      "  'name': 'Менингококковая инфекция'},\n",
      " {'description': '', 'excel_file': 1, 'id': 50, 'name': 'О. аденоидит'},\n",
      " {'description': '',\n",
      "  'excel_file': 1,\n",
      "  'id': 43,\n",
      "  'name': 'О. вирусные кишечные инфекции'},\n",
      " {'description': '',\n",
      "  'excel_file': 1,\n",
      "  'id': 48,\n",
      "  'name': 'О. вирусный риносинусит'},\n",
      " {'description': '',\n",
      "  'excel_file': 1,\n",
      "  'id': 42,\n",
      "  'name': 'О.инфекционный мононуклеоз'},\n",
      " {'description': '',\n",
      "  'excel_file': 1,\n",
      "  'id': 46,\n",
      "  'name': 'О.обструктивный бронхит'},\n",
      " {'description': '',\n",
      "  'excel_file': 1,\n",
      "  'id': 49,\n",
      "  'name': 'О. поствирусный риносинусит'},\n",
      " {'description': '', 'excel_file': 1, 'id': 45, 'name': 'Парагрипп'},\n",
      " {'description': '',\n",
      "  'excel_file': 1,\n",
      "  'id': 38,\n",
      "  'name': 'Ротавирусная инфекция'},\n",
      " {'description': '', 'excel_file': 1, 'id': 34, 'name': 'Скарлатина'}]\n",
      "len(res)=19\n"
     ]
    }
   ],
   "source": [
    "r = requests.get(rf'http://{IP}/api/v1/diagnosis/list/', headers={'Accept': 'application/json'})\n",
    "if r.status_code == 200:\n",
    "    res = r.json()\n",
    "    pprint(res)\n",
    "    print(f\"{len(res)=}\")\n",
    "else:\n",
    "    print(r.status_code)\n",
    "    exit()"
   ]
  },
  {
   "cell_type": "markdown",
   "id": "fc10a940-257c-4bbf-8cc4-b367a34109b7",
   "metadata": {},
   "source": [
    "#### Выбрать ID диагноза:"
   ]
  },
  {
   "cell_type": "code",
   "execution_count": 5,
   "id": "b83d5dd8-02a5-4bc5-9743-db4aef7120f3",
   "metadata": {},
   "outputs": [
    {
     "name": "stdout",
     "output_type": "stream",
     "text": [
      "ID=37\n"
     ]
    }
   ],
   "source": [
    "ID = get_diagnosis_id(IP, 'Коклюш')\n",
    "print(f\"{ID=}\")"
   ]
  },
  {
   "cell_type": "markdown",
   "id": "5c0255d8-bed2-4df2-8555-9a0ce0ede25e",
   "metadata": {},
   "source": [
    "#### Прочитать все записи из диагноза в переменную regulations:"
   ]
  },
  {
   "cell_type": "code",
   "execution_count": 6,
   "id": "92d66b82-e100-44b4-a45a-18c02f619909",
   "metadata": {},
   "outputs": [
    {
     "name": "stdout",
     "output_type": "stream",
     "text": [
      "len(regulations)=124\n"
     ]
    }
   ],
   "source": [
    "regulations = []\n",
    "\n",
    "r = requests.get(rf'http://{IP}/api/v1/diagnosis/{ID}/', headers={'Accept': 'application/json'})\n",
    "if r.status_code == 200:\n",
    "    res = r.json()\n",
    "    regulations = res['regulations']\n",
    "    print(f\"{len(regulations)=}\")\n",
    "else:\n",
    "    print(r.status_code)\n",
    "    exit()"
   ]
  },
  {
   "cell_type": "markdown",
   "id": "9cafa24a-d581-4f7b-a435-bc7ab3502bf7",
   "metadata": {},
   "source": [
    "#### Прочитать не отмеченные записи в переменную disabled_regulations:"
   ]
  },
  {
   "cell_type": "code",
   "execution_count": 7,
   "id": "0b8470af-3411-4da3-ad75-4812f74c223e",
   "metadata": {
    "scrolled": true
   },
   "outputs": [
    {
     "name": "stdout",
     "output_type": "stream",
     "text": [
      "ID=37\n",
      "len(disabled_regulations)=2\n",
      "{4: [('Ібупром Макс табл. п/о 400 мг блистер №12', 8619),\n",
      "     ('Ібупром Макс табл. п/о 400 мг блистер №24', 8609),\n",
      "     ('Амажестін табл. п/плен. оболочкой 105 мг блистер №60', 8649),\n",
      "     ('Асиброкс табл. шип. 200 мг пенал №24', 8633),\n",
      "     ('Асиброкс табл. шип. 200 мг стрип №10', 8640),\n",
      "     ('Асиброкс табл. шип. 600 мг пенал №12', 8706),\n",
      "     ('Асиброкс табл. шип. 600 мг стрип №20', 8699),\n",
      "     ('Асиброкс таблетки шип. по 600 мг №10 (2х5) у стрип.', 8563),\n",
      "     ('Аффида Макс таблетки в/об., по 400мг №20', 8600),\n",
      "     ('Гліцин табл. 100 мг №40', 8711),\n",
      "     ('Гліцин табл. 100 мг №50', 8698),\n",
      "     ('Гліцин табл. 100 мг №50 ТМ Магнолія', 8576),\n",
      "     ('Гліцин табл. 110 мг №50', 8659),\n",
      "     ('Гліцин табл. 250 мг (125 мг гліцина) №50', 8631),\n",
      "     ('Гліцин табл. 250 мг №50', 8573),\n",
      "     ('Гліцин таблетки сублінгв. по 100 мг №50 (50х1)', 8628),\n",
      "     ('Гліцин таблетки №40', 8687),\n",
      "     ('Гліцин-Здоров`я табл. сублингвал. 100 мг блистер №30', 8632),\n",
      "     ('Гліцин-Здоров`я табл. сублингвал. 100 мг блистер №50', 8569),\n",
      "     ('Грипекс Актив Макс таблетки №10', 8613),\n",
      "     ('Зивокс табл. в/плів. оболонкою 600 мг №10', 8643),\n",
      "     ('Лазикс таблетки по 40 мг №45 (15х3)', 8561),\n",
      "     ('ПМ Сірін Макс таблетки, в/о, №30', 8635),\n",
      "     ('Силібор Макс капс. 140 мг блистер №40', 8575),\n",
      "     ('Т-Септ табл. д/розсмоктування 3 мг №20', 8655),\n",
      "     ('Торзакс табл. п/плен. оболочкой 40 мг блистер №15', 8713),\n",
      "     ('Торзакс табл. п/плен. оболочкой 80 мг блистер №30', 8560),\n",
      "     ('Торзакс таблетки, в/плів. обол., по 10 мг №30 (10х3)', 8578),\n",
      "     ('Торзакс таблетки, в/плів. обол., по 20 мг №10 (10х1)', 8673),\n",
      "     ('Торзакс таблетки, в/плів. обол., по 20 мг №30 (10х3)', 8599),\n",
      "     ('Торзакс таблетки, в/плів. обол., по 40 мг №30 (15х2)', 8688),\n",
      "     ('Фазижин таблетки, в/плів. обол., по 500 мг №4', 8595)],\n",
      " 5: [('Ісла-Моос пастилки по 80 мг №30 (10х3)', 8593),\n",
      "     ('Ісміжен табл. сублінгвал. 50 мг №10', 8579),\n",
      "     ('Ісміжен табл. сублінгвал. 50 мг №30', 8716),\n",
      "     ('Аладин табл. 10 мг №30 (10х3)', 8605),\n",
      "     ('Аладин табл. 5 мг №30 (10х3)', 8604),\n",
      "     ('Аладин таблетки по 10 мг №50 (10х5)', 8692),\n",
      "     ('Аладин таблетки по 5 мг №50 (10х5)', 8712),\n",
      "     ('Алтемікс Бронхо сироп фл. 100 мл, мерн. ложка №1', 8566),\n",
      "     ('Алтемікс Бронхо сироп фл. 50 мл, с мерной ложкой №1', 8570),\n",
      "     ('Бронхо Тайсс краплі д/перор. заст. по 30 мл у флак.', 8615),\n",
      "     ('Бронхостоп Сироп сироп по 120 мл у флак', 8620),\n",
      "     ('Гербіон Сироп Подорожника сироп по 150 мл у флак.', 8616),\n",
      "     ('Мілістан Сироп Від Кашлю сироп по 100 мл фл. №1', 8553),\n",
      "     ('Пектолван Ц сироп по 100 мл фл. №1', 8586),\n",
      "     ('Плюща Сироп сироп фл. полимер. 100 г', 8646),\n",
      "     ('Плюща Сироп сироп фл. полімер. з кришкою. 200 г', 8686),\n",
      "     ('Пумпан краплі ор. по 20 мл у флак.-крап.', 8621),\n",
      "     ('Пумпан краплі ор. по 50 мл у флак.-крап.', 8547),\n",
      "     ('Пумпан табл. №24', 8704),\n",
      "     ('Пумпан табл. №36', 8717),\n",
      "     ('Пумпан табл. №48', 8658),\n",
      "     ('Піковіт сироп, 150 мл.', 8581),\n",
      "     ('Сироп Подорожника сироп фл. 100 мл, в карт. коробке №1', 8703),\n",
      "     ('Сироп Подорожника сироп фл. 130 г №1', 8676),\n",
      "     ('Сироп Подорожника сироп фл. 200 мл, в карт. коробке №1', 8700),\n",
      "     ('Солодки Кореня Сироп сироп фл. 100 г №1', 8549),\n",
      "     ('Солодки Кореня Сироп сироп фл. 100 мл №1', 8650),\n",
      "     ('Солодки Кореня Сироп сироп фл. 100 мл, з мірними. стаканчиком', 8641),\n",
      "     ('Солодки Кореня Сироп сироп фл. 200 г №1', 8622),\n",
      "     ('Солодки Кореня Сироп сироп фл. 200 мл, з мірними. стаканчиком', 8592),\n",
      "     ('Солодки Кореня Сироп сироп фл. 50 г, в пачке', 8602)]}\n",
      "========================================================================================================================\n",
      "Completed\n"
     ]
    }
   ],
   "source": [
    "disabled_regulations = dict()\n",
    "for regulation in regulations:\n",
    "    if regulation['is_disabled']:\n",
    "        drug = regulation['drug']\n",
    "        order = regulation['order']\n",
    "        if order not in disabled_regulations:\n",
    "            disabled_regulations[order] = list()\n",
    "        disabled_regulations[order].append((drug['product_name'], regulation['id']))\n",
    "\n",
    "disabled_regulations = {order: sorted(drugs, key=lambda x: x[0]) for order, drugs in disabled_regulations.items()}\n",
    "print(f\"{ID=}\")\n",
    "print(f\"{len(disabled_regulations)=}\")\n",
    "pprint(disabled_regulations)\n",
    "print(\"=\"*120)\n",
    "print(\"Completed\")"
   ]
  },
  {
   "cell_type": "markdown",
   "id": "f3f69f67-d667-4793-9bc8-c22750f55e0f",
   "metadata": {},
   "source": [
    "#### Установить удаление записей препаратов из диагноза:"
   ]
  },
  {
   "cell_type": "code",
   "execution_count": 8,
   "id": "ae665876-51f4-4dec-8cee-84d0271e0786",
   "metadata": {},
   "outputs": [],
   "source": [
    "DELETE = True"
   ]
  },
  {
   "cell_type": "markdown",
   "id": "73734af9-99a9-48a8-a75a-9c89c3cfa52c",
   "metadata": {},
   "source": [
    "#### **Удалить не отмеченные записи из диагноза:**"
   ]
  },
  {
   "cell_type": "code",
   "execution_count": 9,
   "id": "5c7add58-3caa-4719-8c7e-ae130347e9ef",
   "metadata": {
    "scrolled": true
   },
   "outputs": [
    {
     "name": "stdout",
     "output_type": "stream",
     "text": [
      "\n",
      "Diagnosis id: 37 order: 4  disabled regulations:32\n",
      "\tregulation id: 8619 ('Ібупром Макс табл. п/о 400 мг блистер №12') removed\n",
      "\tregulation id: 8609 ('Ібупром Макс табл. п/о 400 мг блистер №24') removed\n",
      "\tregulation id: 8649 ('Амажестін табл. п/плен. оболочкой 105 мг блистер №60') removed\n",
      "\tregulation id: 8633 ('Асиброкс табл. шип. 200 мг пенал №24') removed\n",
      "\tregulation id: 8640 ('Асиброкс табл. шип. 200 мг стрип №10') removed\n",
      "\tregulation id: 8706 ('Асиброкс табл. шип. 600 мг пенал №12') removed\n",
      "\tregulation id: 8699 ('Асиброкс табл. шип. 600 мг стрип №20') removed\n",
      "\tregulation id: 8563 ('Асиброкс таблетки шип. по 600 мг №10 (2х5) у стрип.') removed\n",
      "\tregulation id: 8600 ('Аффида Макс таблетки в/об., по 400мг №20') removed\n",
      "\tregulation id: 8711 ('Гліцин табл. 100 мг №40') removed\n",
      "\tregulation id: 8698 ('Гліцин табл. 100 мг №50') removed\n",
      "\tregulation id: 8576 ('Гліцин табл. 100 мг №50 ТМ Магнолія') removed\n",
      "\tregulation id: 8659 ('Гліцин табл. 110 мг №50') removed\n",
      "\tregulation id: 8631 ('Гліцин табл. 250 мг (125 мг гліцина) №50') removed\n",
      "\tregulation id: 8573 ('Гліцин табл. 250 мг №50') removed\n",
      "\tregulation id: 8628 ('Гліцин таблетки сублінгв. по 100 мг №50 (50х1)') removed\n",
      "\tregulation id: 8687 ('Гліцин таблетки №40') removed\n",
      "\tregulation id: 8632 ('Гліцин-Здоров`я табл. сублингвал. 100 мг блистер №30') removed\n",
      "\tregulation id: 8569 ('Гліцин-Здоров`я табл. сублингвал. 100 мг блистер №50') removed\n",
      "\tregulation id: 8613 ('Грипекс Актив Макс таблетки №10') removed\n",
      "\tregulation id: 8643 ('Зивокс табл. в/плів. оболонкою 600 мг №10') removed\n",
      "\tregulation id: 8561 ('Лазикс таблетки по 40 мг №45 (15х3)') removed\n",
      "\tregulation id: 8635 ('ПМ Сірін Макс таблетки, в/о, №30') removed\n",
      "\tregulation id: 8575 ('Силібор Макс капс. 140 мг блистер №40') removed\n",
      "\tregulation id: 8655 ('Т-Септ табл. д/розсмоктування 3 мг №20') removed\n",
      "\tregulation id: 8713 ('Торзакс табл. п/плен. оболочкой 40 мг блистер №15') removed\n",
      "\tregulation id: 8560 ('Торзакс табл. п/плен. оболочкой 80 мг блистер №30') removed\n",
      "\tregulation id: 8578 ('Торзакс таблетки, в/плів. обол., по 10 мг №30 (10х3)') removed\n",
      "\tregulation id: 8673 ('Торзакс таблетки, в/плів. обол., по 20 мг №10 (10х1)') removed\n",
      "\tregulation id: 8599 ('Торзакс таблетки, в/плів. обол., по 20 мг №30 (10х3)') removed\n",
      "\tregulation id: 8688 ('Торзакс таблетки, в/плів. обол., по 40 мг №30 (15х2)') removed\n",
      "\tregulation id: 8595 ('Фазижин таблетки, в/плів. обол., по 500 мг №4') removed\n",
      "\n",
      "Diagnosis id: 37 order: 5  disabled regulations:31\n",
      "\tregulation id: 8593 ('Ісла-Моос пастилки по 80 мг №30 (10х3)') removed\n",
      "\tregulation id: 8579 ('Ісміжен табл. сублінгвал. 50 мг №10') removed\n",
      "\tregulation id: 8716 ('Ісміжен табл. сублінгвал. 50 мг №30') removed\n",
      "\tregulation id: 8605 ('Аладин табл. 10 мг №30 (10х3)') removed\n",
      "\tregulation id: 8604 ('Аладин табл. 5 мг №30 (10х3)') removed\n",
      "\tregulation id: 8692 ('Аладин таблетки по 10 мг №50 (10х5)') removed\n",
      "\tregulation id: 8712 ('Аладин таблетки по 5 мг №50 (10х5)') removed\n",
      "\tregulation id: 8566 ('Алтемікс Бронхо сироп фл. 100 мл, мерн. ложка №1') removed\n",
      "\tregulation id: 8570 ('Алтемікс Бронхо сироп фл. 50 мл, с мерной ложкой №1') removed\n",
      "\tregulation id: 8615 ('Бронхо Тайсс краплі д/перор. заст. по 30 мл у флак.') removed\n",
      "\tregulation id: 8620 ('Бронхостоп Сироп сироп по 120 мл у флак') removed\n",
      "\tregulation id: 8616 ('Гербіон Сироп Подорожника сироп по 150 мл у флак.') removed\n",
      "\tregulation id: 8553 ('Мілістан Сироп Від Кашлю сироп по 100 мл фл. №1') removed\n",
      "\tregulation id: 8586 ('Пектолван Ц сироп по 100 мл фл. №1') removed\n",
      "\tregulation id: 8646 ('Плюща Сироп сироп фл. полимер. 100 г') removed\n",
      "\tregulation id: 8686 ('Плюща Сироп сироп фл. полімер. з кришкою. 200 г') removed\n",
      "\tregulation id: 8621 ('Пумпан краплі ор. по 20 мл у флак.-крап.') removed\n",
      "\tregulation id: 8547 ('Пумпан краплі ор. по 50 мл у флак.-крап.') removed\n",
      "\tregulation id: 8704 ('Пумпан табл. №24') removed\n",
      "\tregulation id: 8717 ('Пумпан табл. №36') removed\n",
      "\tregulation id: 8658 ('Пумпан табл. №48') removed\n",
      "\tregulation id: 8581 ('Піковіт сироп, 150 мл.') removed\n",
      "\tregulation id: 8703 ('Сироп Подорожника сироп фл. 100 мл, в карт. коробке №1') removed\n",
      "\tregulation id: 8676 ('Сироп Подорожника сироп фл. 130 г №1') removed\n",
      "\tregulation id: 8700 ('Сироп Подорожника сироп фл. 200 мл, в карт. коробке №1') removed\n",
      "\tregulation id: 8549 ('Солодки Кореня Сироп сироп фл. 100 г №1') removed\n",
      "\tregulation id: 8650 ('Солодки Кореня Сироп сироп фл. 100 мл №1') removed\n",
      "\tregulation id: 8641 ('Солодки Кореня Сироп сироп фл. 100 мл, з мірними. стаканчиком') removed\n",
      "\tregulation id: 8622 ('Солодки Кореня Сироп сироп фл. 200 г №1') removed\n",
      "\tregulation id: 8592 ('Солодки Кореня Сироп сироп фл. 200 мл, з мірними. стаканчиком') removed\n",
      "\tregulation id: 8602 ('Солодки Кореня Сироп сироп фл. 50 г, в пачке') removed\n",
      "========================================================================================================================\n",
      "Completed\n"
     ]
    }
   ],
   "source": [
    "if DELETE:\n",
    "    for order, rec_list in disabled_regulations.items():\n",
    "        print(f\"\\nDiagnosis id: {ID} order: {order}  disabled regulations:{len(rec_list)}\")\n",
    "        for rec in rec_list:\n",
    "            drug, reg_id = rec\n",
    "            r = requests.delete(rf'http://{IP}/api/v1/regulations/{reg_id}/', headers={'Accept': 'application/json'})\n",
    "            if r.status_code in [200, 204]:\n",
    "                print(f\"\\tregulation id: {reg_id} ('{drug}') removed\")\n",
    "            else:\n",
    "                print(r.status_code) # 204 (No Content) if the action has been enacted but the response does not include an entity.\n",
    "    print(\"=\"*120)\n",
    "    print(\"Completed\")\n",
    "else:\n",
    "    print(f\"{DELETE=}\")"
   ]
  },
  {
   "cell_type": "markdown",
   "id": "e9fb1c8a-41df-4b51-8847-b2420f28e425",
   "metadata": {},
   "source": [
    "--------"
   ]
  },
  {
   "cell_type": "code",
   "execution_count": null,
   "id": "3b6d8490-1818-4478-936a-d57844927b35",
   "metadata": {},
   "outputs": [],
   "source": []
  }
 ],
 "metadata": {
  "kernelspec": {
   "display_name": "Python 3 (ipykernel)",
   "language": "python",
   "name": "python3"
  },
  "language_info": {
   "codemirror_mode": {
    "name": "ipython",
    "version": 3
   },
   "file_extension": ".py",
   "mimetype": "text/x-python",
   "name": "python",
   "nbconvert_exporter": "python",
   "pygments_lexer": "ipython3",
   "version": "3.10.13"
  }
 },
 "nbformat": 4,
 "nbformat_minor": 5
}
