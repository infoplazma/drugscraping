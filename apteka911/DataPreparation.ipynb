{
 "cells": [
  {
   "cell_type": "markdown",
   "id": "8a8456e8-f340-4e71-9000-f43d1c680c2a",
   "metadata": {},
   "source": [
    "# Data Preparation for loading into bd"
   ]
  },
  {
   "cell_type": "markdown",
   "id": "ec1c2dfe-1c49-4b8a-892f-5e8fdff1369d",
   "metadata": {},
   "source": [
    "### Назначение: Подготовка данных, скрапинг, парсинг и создание задания в виде excel файла для загрузки на сайт."
   ]
  },
  {
   "cell_type": "markdown",
   "id": "84b3b13c-302e-4cd1-b1f1-7fd8639b1e26",
   "metadata": {},
   "source": [
    "[API Редактор інструкцій - ссылка на сайт](http://185.174.220.122)"
   ]
  },
  {
   "cell_type": "markdown",
   "id": "551f552c-541b-4b78-b380-bb1332cb6db8",
   "metadata": {},
   "source": [
    "-----------"
   ]
  },
  {
   "cell_type": "markdown",
   "id": "c3de3be9-7e8f-40ba-b9a4-307b14edd595",
   "metadata": {},
   "source": [
    "### Импорт и проверка констант:"
   ]
  },
  {
   "cell_type": "code",
   "execution_count": 1,
   "id": "d2933b84-96d4-4313-9d83-a7ac79863171",
   "metadata": {},
   "outputs": [],
   "source": [
    "import os\n",
    "import sys\n",
    "from pprint import pprint\n",
    "from icecream import ic\n",
    "\n",
    "import pandas as pd\n",
    "# подгрузка root\n",
    "sys.path.append('..')\n",
    "import settings\n",
    "\n",
    "from core.utilities import read_excel_package, is_open_file, DFS_TYPE, dfs_to_excel, read_excel\n",
    "\n",
    "from apteka911.service_utilities.one_drive_txt_file_to_df import transform_to_df\n",
    "from apteka911.service_utilities.path_finder import search_replace\n",
    "from apteka911.service_utilities.symptoms_creator import create_symptoms_dfs, SYMPTOMS_PATH\n",
    "\n",
    "from apteka911.page_scraping import scrape_pages, DOMAIN_URL, SOURCE_HTML_DIR\n",
    "from apteka911.page_parsing import parse_pages, PARSED_DATA_PATH\n",
    "from apteka911.task_creator import create_task_dfs, TASK_DFS_PATH\n",
    "\n",
    "%load_ext dotenv\n",
    "%dotenv"
   ]
  },
  {
   "cell_type": "markdown",
   "id": "5ecbfad9-9325-4136-ba30-531a318e4c28",
   "metadata": {},
   "source": [
    "### Проверить значения IP из .env:"
   ]
  },
  {
   "cell_type": "code",
   "execution_count": null,
   "id": "b81cae36-1d76-4b9d-86b0-9c686ff2993a",
   "metadata": {},
   "outputs": [],
   "source": [
    "API_URL = os.getenv(\"API_URL\")\n",
    "print(f\"{API_URL=}\")"
   ]
  },
  {
   "cell_type": "markdown",
   "id": "ca4c06d1-332f-4e0a-b4d8-590a6197482c",
   "metadata": {},
   "source": [
    "#### Проверить путь к папке с заданиями в txt файлах:"
   ]
  },
  {
   "cell_type": "code",
   "execution_count": null,
   "id": "927b5a0f-8618-4f87-8b5c-b0c8f13c2a5a",
   "metadata": {},
   "outputs": [],
   "source": [
    "ONE_DRIVE_DIR = settings.ONE_DRIVE_DIR\n",
    "print(f\"{ONE_DRIVE_DIR=}\")"
   ]
  },
  {
   "cell_type": "markdown",
   "id": "29293bee-5773-4c11-afb4-cf7605faae42",
   "metadata": {},
   "source": [
    "---------"
   ]
  },
  {
   "cell_type": "markdown",
   "id": "d56468ba-f515-40ac-b94b-1278002a24bf",
   "metadata": {},
   "source": [
    "### Редактирование, поиск и замена в txt файлах из ONE_DRIVE_DIR (файлы с заданием):"
   ]
  },
  {
   "cell_type": "markdown",
   "id": "78e95759-68a1-4ff2-ae1e-8762274d9f41",
   "metadata": {},
   "source": [
    "#### Задать строку поиска:"
   ]
  },
  {
   "cell_type": "code",
   "execution_count": null,
   "id": "d23f6162-457b-4498-a56c-10bfc4c9d9b8",
   "metadata": {},
   "outputs": [],
   "source": [
    "search_text = \"Себідин\""
   ]
  },
  {
   "cell_type": "markdown",
   "id": "91e9e892-d3bf-4470-9d53-b8611c0cf5d8",
   "metadata": {},
   "source": [
    "#### Задать словарь поиска и замены:"
   ]
  },
  {
   "cell_type": "code",
   "execution_count": 2,
   "id": "d660da8f-2646-41fd-b8bc-72d60e0f2680",
   "metadata": {},
   "outputs": [],
   "source": [
    "# При непустом участвует в поиске по ключу или замене ключа на значение словаря.\n",
    "replacer_dict = {\n",
    "        \"Себідин таблетки д/розсмок. №20\": \"\"\n",
    "        # 'АзитроСандоз - Порошок для оральної суспензії.': 'Азитро Сандоз пор. д/п сусп',\n",
    "        # 'Окомістин  - розчин': 'Окомістин  - розчин',\n",
    "    }"
   ]
  },
  {
   "cell_type": "markdown",
   "id": "eccc1822-a16c-4965-a714-e0ea21348337",
   "metadata": {},
   "source": [
    "#### Задать значение флага для замены. Если False - только поиск, True - замена согласно **replacer_dict**:"
   ]
  },
  {
   "cell_type": "code",
   "execution_count": null,
   "id": "3b455265-a7e0-4a33-9f41-c760060d567f",
   "metadata": {},
   "outputs": [],
   "source": [
    "REPLACE = False"
   ]
  },
  {
   "cell_type": "markdown",
   "id": "68d74fe9-f6d5-4228-b8ac-8025ec6e24f1",
   "metadata": {},
   "source": [
    "#### Выполнить поиск и/или замену от заданных аргументов:"
   ]
  },
  {
   "cell_type": "code",
   "execution_count": null,
   "id": "243f6c99-2493-4722-933f-fa456ebd497e",
   "metadata": {},
   "outputs": [],
   "source": [
    "search_replace(search_text, replacer_dict, REPLACE)"
   ]
  },
  {
   "cell_type": "markdown",
   "id": "7e5ad685-77cd-4b39-8a20-ce9831b99461",
   "metadata": {},
   "source": [
    "---------------------"
   ]
  },
  {
   "cell_type": "markdown",
   "id": "2e1a2c81-bb6f-4830-9e16-020c1632d18f",
   "metadata": {},
   "source": [
    "### Создание и просмотр списка препаратов для скрапинга:"
   ]
  },
  {
   "cell_type": "code",
   "execution_count": null,
   "id": "7218900c-8f6a-4824-ab0e-48cc6c4f4a39",
   "metadata": {},
   "outputs": [],
   "source": [
    "df = transform_to_df(settings.ONE_DRIVE_DIR)\n",
    "DRUG_LIST = sorted(df[\"drug\"].unique())\n",
    "print(f\"{len(DRUG_LIST)=}\")"
   ]
  },
  {
   "cell_type": "markdown",
   "id": "e352b1e9-b208-45a2-9b68-1c94afc80579",
   "metadata": {},
   "source": [
    "#### Вывести DRUG_LIST:"
   ]
  },
  {
   "cell_type": "code",
   "execution_count": null,
   "id": "07dc2dd0-1658-46c8-ac26-11de35359a74",
   "metadata": {
    "scrolled": true
   },
   "outputs": [],
   "source": [
    "pprint(DRUG_LIST)"
   ]
  },
  {
   "cell_type": "markdown",
   "id": "19250c61-13a6-47f0-bd86-d65e4ab3b662",
   "metadata": {},
   "source": [
    "--------------"
   ]
  },
  {
   "cell_type": "markdown",
   "id": "4d7b588a-b87f-4945-8cc2-bfee96184d46",
   "metadata": {},
   "source": [
    "### **Скрапинг:**\n",
    "* Скрапится домен DOMAIN_URL\n",
    "* Соскрапленные html файлы сохраняются в папке SOURCE_HTML_DIR"
   ]
  },
  {
   "cell_type": "code",
   "execution_count": null,
   "id": "b5fbea2f-187e-4c01-9b10-b44bd78749bd",
   "metadata": {},
   "outputs": [],
   "source": [
    "print(f\"{DOMAIN_URL=}\")\n",
    "print(f\"{SOURCE_HTML_DIR=}\")"
   ]
  },
  {
   "cell_type": "code",
   "execution_count": null,
   "id": "310da308-7420-4282-8353-ca06bc0302bc",
   "metadata": {},
   "outputs": [],
   "source": [
    "# версия Chrome driver\n",
    "VERSION_MAIN = 121"
   ]
  },
  {
   "cell_type": "markdown",
   "id": "e5527a97-3711-42b8-870d-306e85c99631",
   "metadata": {},
   "source": [
    "##### **Перед началом скрапинга желательно очистить SOURCE_HTML_DIR !**"
   ]
  },
  {
   "cell_type": "code",
   "execution_count": null,
   "id": "4714c35e-cbfd-4c1c-b102-08331de3a8c7",
   "metadata": {
    "scrolled": true
   },
   "outputs": [],
   "source": [
    "print(\"SCRAPING:\")\n",
    "REFUSED_URLS = scrape_pages(DOMAIN_URL, SOURCE_HTML_DIR, DRUG_LIST, VERSION_MAIN)\n",
    "print(\"=\"*120)"
   ]
  },
  {
   "cell_type": "markdown",
   "id": "86ee2916-6f1b-4b3f-821b-4a0dded300a8",
   "metadata": {},
   "source": [
    "#### Просмотреть не соскрапленные urls:"
   ]
  },
  {
   "cell_type": "code",
   "execution_count": null,
   "id": "ed4a2bbf-9c2d-4339-81f6-2eba1f30b253",
   "metadata": {},
   "outputs": [],
   "source": [
    "print(\"REFUSED URLS:\")\n",
    "print(f\"{len(REFUSED_URLS)=}\")\n",
    "pprint(REFUSED_URLS)"
   ]
  },
  {
   "cell_type": "markdown",
   "id": "bb889bc5-ab87-419f-96b7-8a3fe7f68d4b",
   "metadata": {},
   "source": [
    "--------------"
   ]
  },
  {
   "cell_type": "markdown",
   "id": "adbf3e8e-ed29-4ede-b95b-7b4dc67d45f1",
   "metadata": {},
   "source": [
    "### **Парсинг:**\n",
    "* Парсятся файлы из папки SOURCE_HTML_DIR **Предварительно проверить SOURCE_HTML_DIR !**\n",
    "* Распарсинные данные сохраняются в файле PARSED_DATA_PATH"
   ]
  },
  {
   "cell_type": "code",
   "execution_count": null,
   "id": "ad47b93f-389f-4915-b3ae-2f2a7d4c27b0",
   "metadata": {},
   "outputs": [],
   "source": [
    "print(f\"{SOURCE_HTML_DIR=}\")\n",
    "print(f\"{PARSED_DATA_PATH=}\")"
   ]
  },
  {
   "cell_type": "markdown",
   "id": "24b473fd-13d0-4b03-b45a-59c2c38a6571",
   "metadata": {},
   "source": [
    "#### Процесс парсинга:"
   ]
  },
  {
   "cell_type": "code",
   "execution_count": null,
   "id": "8b13e904-5608-4c6c-ac6b-2e1417b24b4c",
   "metadata": {},
   "outputs": [],
   "source": [
    "print(f\"{len(DRUG_LIST)=}\")\n",
    "df, refused_url, unused_drugs = parse_pages(SOURCE_HTML_DIR, DRUG_LIST)\n",
    "df.to_csv(PARSED_DATA_PATH, index=False)\n",
    "print(\"=\" * 120)"
   ]
  },
  {
   "cell_type": "markdown",
   "id": "6f9b9aef-c647-4ff7-a832-08531596c598",
   "metadata": {},
   "source": [
    "#### Процесс парсинга возвращает:\n",
    "* df - таблица где колонки это названия полей которые удалось спарсить\n",
    "* refused_url - препараты файлы которых по какимто причинам не распарсились\n",
    "* unused_drugs - препараты для которых не нашлось соскрепленных файлов в source_page_dir"
   ]
  },
  {
   "cell_type": "code",
   "execution_count": null,
   "id": "9f819e41-ed20-4002-af70-039856fb3960",
   "metadata": {},
   "outputs": [],
   "source": [
    "print(\"=\" * 120)\n",
    "print(\"Refused urls:\")\n",
    "pprint(refused_url)\n",
    "print(\"=\" * 120)\n",
    "\n",
    "print(\"Unused drugs:\")\n",
    "pprint(unused_drugs)\n",
    "print(\"=\" * 120)"
   ]
  },
  {
   "cell_type": "markdown",
   "id": "8d7bb2c7-d302-4000-b213-b5b65b2e9616",
   "metadata": {},
   "source": [
    "--------------"
   ]
  },
  {
   "cell_type": "markdown",
   "id": "5418330d-3eed-4952-a2bc-fdf0e107d6eb",
   "metadata": {},
   "source": [
    "### Формирование списков симптомов по диагнозам (Не обязательно при наличии файла):"
   ]
  },
  {
   "cell_type": "markdown",
   "id": "e4ff146f-672c-4efa-a172-be3b8295d15b",
   "metadata": {},
   "source": [
    "* Формирует таблицу соспоставления индекса/номера симптома к описанию симптома и сохраняет по пути SYMPTOMS_PATH"
   ]
  },
  {
   "cell_type": "markdown",
   "id": "7b3d026f-3bd8-4829-b424-8a5bf414f895",
   "metadata": {},
   "source": [
    "* Т. как данные берутся из основного задания settings.TASK_DIR то при наличии таблицы SYMPTOMS_PATH этот процесс можно пропустить"
   ]
  },
  {
   "cell_type": "markdown",
   "id": "436c9928-7419-47c3-85cc-fb978040226a",
   "metadata": {},
   "source": [
    "#### Процесс создания таблицы:"
   ]
  },
  {
   "cell_type": "code",
   "execution_count": null,
   "id": "2701b398-50b2-4fc4-b809-950b10d9f343",
   "metadata": {},
   "outputs": [],
   "source": [
    "dfs = create_symptoms_dfs(settings.TASK_DIR)\n",
    "for diagnosis, df in dfs.items():\n",
    "    print(f\"\\n{diagnosis}\")\n",
    "    print(\"-\"*120)\n",
    "    print(*df.to_records(index=False), sep=\"\\n\")\n",
    "\n",
    "print(\"\\n\")\n",
    "if not is_open_file(SYMPTOMS_PATH):\n",
    "    dfs_to_excel(SYMPTOMS_PATH, dfs, highlighted_columns=[\"symptom\"], massage=f\"saved at: '{SYMPTOMS_PATH}'\")"
   ]
  },
  {
   "cell_type": "markdown",
   "id": "0b7d227a-646a-4b97-8cfd-f8c27a38af5e",
   "metadata": {},
   "source": [
    "-----------"
   ]
  },
  {
   "cell_type": "markdown",
   "id": "0f7312cd-705f-4a37-9875-271b3588693c",
   "metadata": {},
   "source": [
    "### **Создание DataFrames для загрузки в базу данных:**"
   ]
  },
  {
   "cell_type": "markdown",
   "id": "452bbebd-1a6f-45dc-953a-eea8a5b9a642",
   "metadata": {},
   "source": [
    "* Созданные таблицы сохраняются в excel файле TASK_DFS_PATH"
   ]
  },
  {
   "cell_type": "code",
   "execution_count": 2,
   "id": "c365a721-be61-4b09-ba29-4a830f98fdda",
   "metadata": {},
   "outputs": [
    {
     "name": "stdout",
     "output_type": "stream",
     "text": [
      "Not found drug:'Актифед розчин д/перор. заст. по 100 мл у флак.' in diagnosis:'Менингококковая инфекция'\n",
      "Not found drug:'Актифед таблетки №12' in diagnosis:'Менингококковая инфекция'\n",
      "========================================================================================================================\n",
      "dfs saved: 'D:\\PycharmProjects\\drugscraping\\apteka911\\data\\api_drugs.xlsx'\n"
     ]
    }
   ],
   "source": [
    "symptoms_dfs = read_excel(SYMPTOMS_PATH)\n",
    "parsed_drugs_df = pd.read_csv(PARSED_DATA_PATH)\n",
    "task_df = transform_to_df(settings.ONE_DRIVE_DIR)\n",
    "dfs, not_found_drugs = create_task_dfs(task_df, parsed_drugs_df, symptoms_dfs)\n",
    "\n",
    "print(\"=\" * 120)\n",
    "if not is_open_file(TASK_DFS_PATH):\n",
    "    dfs_to_excel(TASK_DFS_PATH, dfs, highlighted_columns=[\"drug\", \"product_name\", \"Спосіб застосування та дози\"], massage=f\"dfs saved: '{TASK_DFS_PATH}'\")"
   ]
  },
  {
   "cell_type": "markdown",
   "id": "31a96fbb-b677-4516-a1ff-2f24071241fe",
   "metadata": {},
   "source": [
    "#### Печать результирующих таблиц:"
   ]
  },
  {
   "cell_type": "code",
   "execution_count": null,
   "id": "7882f63f-a3c0-4a6a-8575-9a3b9aa82859",
   "metadata": {
    "scrolled": true
   },
   "outputs": [],
   "source": [
    "pprint(dfs)"
   ]
  }
 ],
 "metadata": {
  "kernelspec": {
   "display_name": "Python 3 (ipykernel)",
   "language": "python",
   "name": "python3"
  },
  "language_info": {
   "codemirror_mode": {
    "name": "ipython",
    "version": 3
   },
   "file_extension": ".py",
   "mimetype": "text/x-python",
   "name": "python",
   "nbconvert_exporter": "python",
   "pygments_lexer": "ipython3",
   "version": "3.10.13"
  }
 },
 "nbformat": 4,
 "nbformat_minor": 5
}
